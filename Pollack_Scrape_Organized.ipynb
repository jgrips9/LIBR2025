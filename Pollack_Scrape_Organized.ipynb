{
 "cells": [
  {
   "cell_type": "code",
   "execution_count": null,
   "id": "99bb8dd3-07a4-4809-b4c6-d807297b639a",
   "metadata": {},
   "outputs": [],
   "source": [
    "!pip install bs4\n",
    "!pip install pandas\n",
    "!pip install python-docx\n",
    "from bs4 import BeautifulSoup\n",
    "from urllib.request import urlopen\n",
    "import re\n",
    "import pandas as pd\n",
    "import pprint\n",
    "import re\n",
    "import os\n",
    "from docx import Document"
   ]
  },
  {
   "cell_type": "code",
   "execution_count": null,
   "id": "8b773d7c-796d-4eff-92de-b1c850dd966b",
   "metadata": {},
   "outputs": [],
   "source": [
    "html = urlopen('https://statements.cornell.edu/pollack.cfm')\n",
    "bs_html = BeautifulSoup(html, 'html.parser')"
   ]
  },
  {
   "cell_type": "code",
   "execution_count": null,
   "id": "ef570d77-20e0-40ca-98a0-dfd3b2904af6",
   "metadata": {},
   "outputs": [],
   "source": [
    "links = bs_html.find_all('a', {'class':'cu-statement-title'})"
   ]
  },
  {
   "cell_type": "code",
   "execution_count": null,
   "id": "692bcd69-1e0f-498e-a8af-85ec9d3721dd",
   "metadata": {},
   "outputs": [],
   "source": [
    "link_url = []\n",
    "for i in links:\n",
    "    link_url.append(i['href'])"
   ]
  },
  {
   "cell_type": "code",
   "execution_count": null,
   "id": "6d3b5972-123b-49c1-b8e2-8e0144088e9d",
   "metadata": {},
   "outputs": [],
   "source": [
    "base = \"https://statements.cornell.edu/\""
   ]
  },
  {
   "cell_type": "code",
   "execution_count": null,
   "id": "16686748-f343-40a4-a73a-5981234d12c3",
   "metadata": {},
   "outputs": [],
   "source": [
    "count = 0\n",
    "for i in link_url:\n",
    "    if \"http\" not in i:\n",
    "        link_url[count] = base + i\n",
    "    count = count + 1"
   ]
  },
  {
   "cell_type": "code",
   "execution_count": null,
   "id": "8edc4e72-d101-4a58-b9fe-d08934896bdc",
   "metadata": {},
   "outputs": [],
   "source": []
  }
 ],
 "metadata": {
  "kernelspec": {
   "display_name": "Python 3 (ipykernel)",
   "language": "python",
   "name": "python3"
  },
  "language_info": {
   "codemirror_mode": {
    "name": "ipython",
    "version": 3
   },
   "file_extension": ".py",
   "mimetype": "text/x-python",
   "name": "python",
   "nbconvert_exporter": "python",
   "pygments_lexer": "ipython3",
   "version": "3.12.7"
  }
 },
 "nbformat": 4,
 "nbformat_minor": 5
}
