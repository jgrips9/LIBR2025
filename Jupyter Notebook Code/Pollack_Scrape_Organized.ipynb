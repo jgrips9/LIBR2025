{
 "cells": [
  {
   "cell_type": "code",
   "execution_count": 1,
   "id": "0cf01de7-44eb-4f26-93ac-38b4ae122c44",
   "metadata": {},
   "outputs": [],
   "source": [
    "!pip install bs4\n",
    "!pip install pandas\n",
    "!pip install python-docx\n",
    "from bs4 import BeautifulSoup\n",
    "from urllib.request import urlopen\n",
    "import re\n",
    "import pandas as pd\n",
    "import pprint\n",
    "import re\n",
    "import os\n",
    "from docx import Document"
   ]
  },
  {
   "cell_type": "code",
   "execution_count": 2,
   "id": "1c43fed8-9e4a-4e07-8dff-c62c7055a605",
   "metadata": {},
   "outputs": [],
   "source": [
    "html = urlopen('https://statements.cornell.edu/pollack.cfm')\n",
    "bs_html = BeautifulSoup(html, 'html.parser')"
   ]
  },
  {
   "cell_type": "code",
   "execution_count": 3,
   "id": "2b0d3672-0f96-4748-a8bc-73445ae72a74",
   "metadata": {},
   "outputs": [],
   "source": [
    "links = bs_html.find_all('a', {'class':'cu-statement-title'})"
   ]
  },
  {
   "cell_type": "code",
   "execution_count": 4,
   "id": "e71fb3c9-e50b-463e-9a7f-a718b9cbe60d",
   "metadata": {},
   "outputs": [],
   "source": [
    "link_url = []\n",
    "for i in links:\n",
    "    link_url.append(i['href'])"
   ]
  },
  {
   "cell_type": "code",
   "execution_count": 5,
   "id": "bc87ec01-3081-42e5-a7d4-d135c0d2ebd8",
   "metadata": {},
   "outputs": [],
   "source": [
    "base = \"https://statements.cornell.edu/\""
   ]
  },
  {
   "cell_type": "code",
   "execution_count": 6,
   "id": "05754a23-fa86-4a7d-b0a2-823e889fd602",
   "metadata": {},
   "outputs": [],
   "source": [
    "count = 0\n",
    "for i in link_url:\n",
    "    if \"http\" not in i:\n",
    "        link_url[count] = base + i\n",
    "    count = count + 1"
   ]
  },
  {
   "cell_type": "code",
   "execution_count": 7,
   "id": "fcd4776a-e20a-4e4e-a3f3-9a3c7edb72f5",
   "metadata": {},
   "outputs": [],
   "source": [
    "link_url = list(map(lambda st: st.replace('../', ''), link_url))"
   ]
  },
  {
   "cell_type": "code",
   "execution_count": 8,
   "id": "96d8dbca-fa0b-43d7-bbb3-9614ec6ec5c4",
   "metadata": {},
   "outputs": [],
   "source": [
    "os.getcwd()"
   ]
  },
  {
   "cell_type": "code",
   "execution_count": 10,
   "id": "2f4e3111-1c1f-4166-aec5-5f321f99c07d",
   "metadata": {},
   "outputs": [
    {
     "name": "stdout",
     "output_type": "stream",
     "text": [
      "Defaulting to user installation because normal site-packages is not writeable\n",
      "Requirement already satisfied: python-docx in c:\\users\\jrg363\\appdata\\roaming\\python\\python312\\site-packages (1.1.2)\n",
      "Requirement already satisfied: lxml>=3.1.0 in c:\\programdata\\anaconda3\\lib\\site-packages (from python-docx) (5.2.1)\n",
      "Requirement already satisfied: typing-extensions>=4.9.0 in c:\\programdata\\anaconda3\\lib\\site-packages (from python-docx) (4.11.0)\n",
      "Z:\\jrg363\\Workshops FA25\\web scraping for library\\Python\\External advisory committee recommendations_May 31_ 2024.doc\n",
      "Z:\\jrg363\\Workshops FA25\\web scraping for library\\Python\\Response to student referendum_May 30_ 2024.doc\n",
      "Z:\\jrg363\\Workshops FA25\\web scraping for library\\Python\\Encampment Update_May 14_ 2024.doc\n",
      "Z:\\jrg363\\Workshops FA25\\web scraping for library\\Python\\Some news_May 9_ 2024.doc\n",
      "Z:\\jrg363\\Workshops FA25\\web scraping for library\\Python\\Update on campus events_April 29_ 2024.doc\n",
      "Z:\\jrg363\\Workshops FA25\\web scraping for library\\Python\\Patient safety programs at Weill Cornell Medicine_April 22_ 2024.doc\n",
      "Z:\\jrg363\\Workshops FA25\\web scraping for library\\Python\\Resources for navigating these challenging times_April 19_ 2024.doc\n",
      "Z:\\jrg363\\Workshops FA25\\web scraping for library\\Python\\Protecting the rights of our community to teach and learn without disruption_March 27_ 2024.doc\n",
      "Z:\\jrg363\\Workshops FA25\\web scraping for library\\Python\\Statement on Islamophobic incident in Collegetown_March 19_ 2024.doc\n",
      "Z:\\jrg363\\Workshops FA25\\web scraping for library\\Python\\Update on Interim Expressive Activity Policy_March 11_ 2024.doc\n",
      "Z:\\jrg363\\Workshops FA25\\web scraping for library\\Python\\Spring semester updates_Feb_ 8_ 2024.doc\n",
      "Z:\\jrg363\\Workshops FA25\\web scraping for library\\Python\\University policies under development_Jan_ 24_ 2024.doc\n",
      "Z:\\jrg363\\Workshops FA25\\web scraping for library\\Python\\Hateful social media post_Jan_ 11_ 2024.doc\n",
      "Z:\\jrg363\\Workshops FA25\\web scraping for library\\Python\\Statement on university policy_Dec_ 9_ 2023.doc\n",
      "Z:\\jrg363\\Workshops FA25\\web scraping for library\\Python\\Standing against antisemitism and all forms of hate_Nov_ 1_ 2023.doc\n",
      "Z:\\jrg363\\Workshops FA25\\web scraping for library\\Python\\Antisemitic threats to our community_Oct_ 29_ 2023.doc\n",
      "Z:\\jrg363\\Workshops FA25\\web scraping for library\\Python\\Statement of President Pollack and Board Chair Kayser on Prof_ Russell Rickford comments_Oct_ 17_ 2023.doc\n",
      "Z:\\jrg363\\Workshops FA25\\web scraping for library\\Python\\Supporting one another as we stand against hatred _Follow up on events in Israel_Oct_ 16_ 2023.doc\n",
      "Z:\\jrg363\\Workshops FA25\\web scraping for library\\Python\\Response to the terrorism in Israel_Updated Oct_ 10_ 2023.doc\n",
      "Z:\\jrg363\\Workshops FA25\\web scraping for library\\Python\\Presidential Task Force on Undergraduate Admissions Final Report_September 14_ 2023.doc\n",
      "Z:\\jrg363\\Workshops FA25\\web scraping for library\\Python\\Welcome message from President Pollack_August 24_ 2023.doc\n",
      "Z:\\jrg363\\Workshops FA25\\web scraping for library\\Python\\Supreme Court decision on consideration of race in college admissions_June 29_ 2023.doc\n",
      "Z:\\jrg363\\Workshops FA25\\web scraping for library\\Python\\The Indispensable Condition_ Freedom of Expression at Cornell_April 17_ 2023.doc\n",
      "Z:\\jrg363\\Workshops FA25\\web scraping for library\\Python\\Presidential Task Force on Undergraduate Admissions_Dec_ 6_ 2022.doc\n",
      "Z:\\jrg363\\Workshops FA25\\web scraping for library\\Python\\Response to recent crime alerts_November 7_ 2022.doc\n",
      "Z:\\jrg363\\Workshops FA25\\web scraping for library\\Python\\Our Core Value as a Community of Belonging_Sept_ 15_ 2022.doc\n",
      "Z:\\jrg363\\Workshops FA25\\web scraping for library\\Python\\Welcome message from President Pollack_Aug_ 22_ 2022.doc\n",
      "Z:\\jrg363\\Workshops FA25\\web scraping for library\\Python\\Statement from President Pollack regarding the shooting in Buffalo_May 15_ 2022.doc\n",
      "Z:\\jrg363\\Workshops FA25\\web scraping for library\\Python\\Statement from President Martha E_ Pollack regarding the war in Ukraine_March 2_ 2022.doc\n",
      "Z:\\jrg363\\Workshops FA25\\web scraping for library\\Python\\Start of the semester plans_January 6_ 2022.doc\n",
      "Z:\\jrg363\\Workshops FA25\\web scraping for library\\Python\\Start of the semester plans_Update Feb_ 1_ 2022.doc\n",
      "Z:\\jrg363\\Workshops FA25\\web scraping for library\\Python\\COVID_19 Update_ Moving to alert level red_ changes to exams_Dec_ 14_ 2021.doc\n",
      "Z:\\jrg363\\Workshops FA25\\web scraping for library\\Python\\Reflecting on our stressful last few days_Nov_ 9_ 2021.doc\n",
      "Z:\\jrg363\\Workshops FA25\\web scraping for library\\Python\\Updates from across Cornell_November 1_ 2021.doc\n",
      "Z:\\jrg363\\Workshops FA25\\web scraping for library\\Python\\A historic gift from Peter and Stephanie Nolan_Sept_ 17_ 2021.doc\n",
      "Z:\\jrg363\\Workshops FA25\\web scraping for library\\Python\\Guiding principles will help us navigate _new normal_September 2_ 2021.doc\n",
      "Z:\\jrg363\\Workshops FA25\\web scraping for library\\Python\\Cornell Community Welcome_Aug_ 26_ 2021.doc\n",
      "Z:\\jrg363\\Workshops FA25\\web scraping for library\\Python\\Public Safety Advisory Committee final recommendations_Aug_ 10_ 2021.doc\n",
      "Z:\\jrg363\\Workshops FA25\\web scraping for library\\Python\\Gift to name and endow Cornell_s School of Public Policy_June 10_ 2021.doc\n",
      "Z:\\jrg363\\Workshops FA25\\web scraping for library\\Python\\Reflections and gratitude_May 30_ 2021.doc\n",
      "Z:\\jrg363\\Workshops FA25\\web scraping for library\\Python\\Standing against hatred and bias_May 26_ 2021.doc\n",
      "Z:\\jrg363\\Workshops FA25\\web scraping for library\\Python\\Commencement update_ Limited number of guests can attend_April 30_ 2021.doc\n",
      "Z:\\jrg363\\Workshops FA25\\web scraping for library\\Python\\Message from President Pollack on Chauvin trial verdict_April 20_ 2021.doc\n",
      "Z:\\jrg363\\Workshops FA25\\web scraping for library\\Python\\Commencement update_April 6_ 2021.doc\n",
      "Z:\\jrg363\\Workshops FA25\\web scraping for library\\Python\\COVID_19 Vaccination and Fall Instruction_April 2_ 2021.doc\n",
      "Z:\\jrg363\\Workshops FA25\\web scraping for library\\Python\\Update on May 2021 Commencement planning_March 25_ 2021.doc\n",
      "Z:\\jrg363\\Workshops FA25\\web scraping for library\\Python\\Increase in COVID_19 cases and the future of campus operations_March 19_ 2021.doc\n",
      "Z:\\jrg363\\Workshops FA25\\web scraping for library\\Python\\Statement on Anti_Asian Violence_March 17_ 2021.doc\n",
      "Z:\\jrg363\\Workshops FA25\\web scraping for library\\Python\\COVID_19 cluster identified on Ithaca campus_Feb_ 5_ 2021.doc\n",
      "Z:\\jrg363\\Workshops FA25\\web scraping for library\\Python\\President Pollack reflects on the legacy of Martin Luther King_ Jr_Jan 18_ 2021.doc\n",
      "Z:\\jrg363\\Workshops FA25\\web scraping for library\\Python\\President Pollack condemns events at U_S_ Capitol_Jan_ 6_ 2021.doc\n",
      "Z:\\jrg363\\Workshops FA25\\web scraping for library\\Python\\Congratulatory message honoring December graduates_Dec_ 19_ 2020.doc\n",
      "Z:\\jrg363\\Workshops FA25\\web scraping for library\\Python\\Gift from Ann S_ Bowers _59 creating new college of computing and information science_Dec_ 17_ 2020.doc\n",
      "Z:\\jrg363\\Workshops FA25\\web scraping for library\\Python\\Planning for the spring semester_Nov_ 19_ 2020.doc\n",
      "Z:\\jrg363\\Workshops FA25\\web scraping for library\\Python\\Election 2020 voter registration_ resources_October 7_ 2020.doc\n",
      "Z:\\jrg363\\Workshops FA25\\web scraping for library\\Python\\Passing of Supreme Court Justice Ruth Bader Ginsburg _54_Sept_ 18_ 2020.doc\n",
      "Z:\\jrg363\\Workshops FA25\\web scraping for library\\Python\\Update on racial justice initiatives at Cornell_Sept_ 4_ 2020.doc\n",
      "Z:\\jrg363\\Workshops FA25\\web scraping for library\\Python\\Important message regarding New York state guidelines_Sept_ 2_ 2020.doc\n",
      "Z:\\jrg363\\Workshops FA25\\web scraping for library\\Python\\Statement on Beirut explosion_Aug_ 7_ 2020.doc\n",
      "Z:\\jrg363\\Workshops FA25\\web scraping for library\\Python\\President Pollack emphasizes science behind reactivation decision_Aug_ 5_ 2020.doc\n",
      "Z:\\jrg363\\Workshops FA25\\web scraping for library\\Python\\Additional actions to create a more just and equitable Cornell_July 16_ 2020.doc\n",
      "Z:\\jrg363\\Workshops FA25\\web scraping for library\\Python\\A positive outcome for international students_July 14_ 2020.doc\n",
      "Z:\\jrg363\\Workshops FA25\\web scraping for library\\Python\\Standing with our international students_July 8_ 2020.doc\n",
      "Z:\\jrg363\\Workshops FA25\\web scraping for library\\Python\\Additional measures to address the FY21 budget deficit_July 2_ 2020.doc\n",
      "Z:\\jrg363\\Workshops FA25\\web scraping for library\\Python\\Plans to reactivate Ithaca campus for fall semester_June 30_ 2020.doc\n",
      "Z:\\jrg363\\Workshops FA25\\web scraping for library\\Python\\Campus reactivation planning_June 22_ 2020.doc\n",
      "Z:\\jrg363\\Workshops FA25\\web scraping for library\\Python\\Cornell marks Juneteenth with day of reflection_June 17_ 2020.doc\n",
      "Z:\\jrg363\\Workshops FA25\\web scraping for library\\Python\\Statement on Prof_ David Collum_s Tweets_June 5_ 2020.doc\n",
      "Z:\\jrg363\\Workshops FA25\\web scraping for library\\Python\\Immediate actions to support and strengthen our community_June 3_ 2020.doc\n",
      "Z:\\jrg363\\Workshops FA25\\web scraping for library\\Python\\Statement on the Recent Killings of Black People in America_May 29_ 2020.doc\n",
      "Z:\\jrg363\\Workshops FA25\\web scraping for library\\Python\\Opportunities for feedback on campus reactivation_May 28_ 2020.doc\n",
      "Z:\\jrg363\\Workshops FA25\\web scraping for library\\Python\\Congratulatory Message Honoring the Class of 2020_May 23_ 2020.doc\n",
      "Z:\\jrg363\\Workshops FA25\\web scraping for library\\Python\\Update on COVID_19 Planning and Summer Programs_April 22_ 2020.doc\n",
      "Z:\\jrg363\\Workshops FA25\\web scraping for library\\Python\\Pollack Outlines Guiding Principles for COVID_19 Response_April 7_ 2020.doc\n",
      "Z:\\jrg363\\Workshops FA25\\web scraping for library\\Python\\Building community during times of struggle_March 26_ 2020.doc\n",
      "Z:\\jrg363\\Workshops FA25\\web scraping for library\\Python\\COVID_19 update_ Confirmed cases within Ithaca campus community_March 20_ 2020.doc\n",
      "Z:\\jrg363\\Workshops FA25\\web scraping for library\\Python\\May 2020 Commencement changes_March 20_ 2020.doc\n",
      "Z:\\jrg363\\Workshops FA25\\web scraping for library\\Python\\To the Cornell Community_March 17_ 2020.doc\n",
      "Z:\\jrg363\\Workshops FA25\\web scraping for library\\Python\\Cornell suspends classes_ virtual instruction begins April 6_March 13_ 2020.doc\n",
      "Z:\\jrg363\\Workshops FA25\\web scraping for library\\Python\\Message from President Pollack about the importance of social distancing_March 11_ 2020.doc\n",
      "Z:\\jrg363\\Workshops FA25\\web scraping for library\\Python\\Cornell announces proactive measures to prevent spread of coronavirus_March 10_ 2020.doc\n",
      "Z:\\jrg363\\Workshops FA25\\web scraping for library\\Python\\President Pollack announces reforms for Greek life at Cornell_Dec_ 18_ 2019.doc\n",
      "Z:\\jrg363\\Workshops FA25\\web scraping for library\\Python\\President offers update on investigation_ Greek reforms_Nov_ 19_ 2019.doc\n",
      "Z:\\jrg363\\Workshops FA25\\web scraping for library\\Python\\Message regarding sorority and fraternity activities on campus_Nov_ 8_ 2019.doc\n",
      "Z:\\jrg363\\Workshops FA25\\web scraping for library\\Python\\Cornell Community Welcome_Aug_ 28_ 2019.doc\n",
      "Z:\\jrg363\\Workshops FA25\\web scraping for library\\Python\\Statement on recent acts of gun violence_Aug_ 6_ 2018.doc\n",
      "Z:\\jrg363\\Workshops FA25\\web scraping for library\\Python\\Year_end message from President Pollack_May 9_ 2019.doc\n",
      "Z:\\jrg363\\Workshops FA25\\web scraping for library\\Python\\Statement on terrorist attacks in Sri Lanka_April 21_ 2019.doc\n",
      "Z:\\jrg363\\Workshops FA25\\web scraping for library\\Python\\Message from President Martha E_ Pollack_April 14_ 2019.doc\n",
      "Z:\\jrg363\\Workshops FA25\\web scraping for library\\Python\\Statement on terrorist attack in New Zealand_March 15_ 2019.doc\n",
      "Z:\\jrg363\\Workshops FA25\\web scraping for library\\Python\\Statement on racist fraternity photo captions in 1980 Cornell yearbook_Feb_ 20_ 2019.doc\n",
      "Z:\\jrg363\\Workshops FA25\\web scraping for library\\Python\\Statement on recent national events_Oct_ 29_ 2018.doc\n",
      "Z:\\jrg363\\Workshops FA25\\web scraping for library\\Python\\Cornell in New York City Visioning Committee update_Oct_ 16_ 2018.doc\n",
      "Z:\\jrg363\\Workshops FA25\\web scraping for library\\Python\\Update on diversity and inclusion initiatives_Sept_ 7_ 2018.doc\n",
      "Z:\\jrg363\\Workshops FA25\\web scraping for library\\Python\\Welcome message_Aug_ 23_ 2018.doc\n",
      "Z:\\jrg363\\Workshops FA25\\web scraping for library\\Python\\Statement regarding U_S_ Supreme Court travel ban ruling_June 27_ 2018.doc\n",
      "Z:\\jrg363\\Workshops FA25\\web scraping for library\\Python\\Presidential Task Force on Campus Climate submits final reports_June 8_ 2018.doc\n",
      "Z:\\jrg363\\Workshops FA25\\web scraping for library\\Python\\President Pollack endorses consensual relationship policy_May 21_ 2018.doc\n",
      "Z:\\jrg363\\Workshops FA25\\web scraping for library\\Python\\President Pollack initiates reforms for Greek letter organizations_May 4_ 2018.doc\n",
      "Z:\\jrg363\\Workshops FA25\\web scraping for library\\Python\\Update from President Pollack_May 2_ 2018.doc\n",
      "Z:\\jrg363\\Workshops FA25\\web scraping for library\\Python\\Statement from President Pollack and VP Lombardi on Collegetown incident_March 10_ 2018.doc\n",
      "Z:\\jrg363\\Workshops FA25\\web scraping for library\\Python\\Presidential Task Force on Campus Climate membership announced_Dec_ 4_ 2017.doc\n",
      "Z:\\jrg363\\Workshops FA25\\web scraping for library\\Python\\In honor of our nation_s veterans_Nov_ 10_ 2017.doc\n",
      "Z:\\jrg363\\Workshops FA25\\web scraping for library\\Python\\President Martha E_ Pollack responds to fliers promoting white supremacy_ anti_Semitism_Oct_ 23_ 2017.doc\n",
      "Z:\\jrg363\\Workshops FA25\\web scraping for library\\Python\\President Martha E_ Pollack announces co_chairs_ charge of task force addressing bigotry and intolerance_Oct_ 11_ 2017.doc\n",
      "Z:\\jrg363\\Workshops FA25\\web scraping for library\\Python\\Statement from President Martha E_ Pollack on events of the past few weeks_September 17_ 2017.doc\n",
      "Z:\\jrg363\\Workshops FA25\\web scraping for library\\Python\\Statement from President Martha E_ Pollack on White House rescission of DACA program_September 5_ 2017.doc\n",
      "Z:\\jrg363\\Workshops FA25\\web scraping for library\\Python\\Welcome back message_August 22_ 2017.doc\n",
      "Z:\\jrg363\\Workshops FA25\\web scraping for library\\Python\\Statement of President Martha E_ Pollack on yesterday_s events in Charlottesville_August 13_ 2017.doc\n",
      "Z:\\jrg363\\Workshops FA25\\web scraping for library\\Python\\President Pollack reasserts student privacy protections_May 9_ 2017.doc\n",
      "Z:\\jrg363\\Workshops FA25\\web scraping for library\\Python\\Arrival message from President Martha E_ Pollack_April 17_ 2017.doc\n"
     ]
    }
   ],
   "source": [
    "current_directory = os.getcwd()\n",
    "for i in link_url:\n",
    "    html = urlopen(i)\n",
    "    bs_html = BeautifulSoup(html, 'html.parser')\n",
    "    title = bs_html.find('h2', {'class':'cu-headline'})\n",
    "    title = title.get_text()\n",
    "    date = bs_html.find('time', {'class':'news-date'})\n",
    "    date = date.get_text()\n",
    "    date = re.sub(r'\\s+', ' ',date).strip()\n",
    "    paragraphs = bs_html.find_all('p')\n",
    "    name = title + \"_\" + date\n",
    "    name = re.sub(r'[^A-Za-z0-9 ]+', '_', name)\n",
    "    filename = current_directory + \"\\\\\" + name + \".doc\" \n",
    "    print(filename)\n",
    "    doc = Document()\n",
    "    doc.add_heading(title)\n",
    "    for p in paragraphs:\n",
    "        text = p.get_text()\n",
    "        doc.add_paragraph(text)\n",
    "    doc.save(filename)"
   ]
  },
  {
   "cell_type": "code",
   "execution_count": null,
   "id": "bbbd8c20-32ce-4909-b454-d71651cd5ab4",
   "metadata": {},
   "outputs": [],
   "source": []
  }
 ],
 "metadata": {
  "kernelspec": {
   "display_name": "Python 3 (ipykernel)",
   "language": "python",
   "name": "python3"
  },
  "language_info": {
   "codemirror_mode": {
    "name": "ipython",
    "version": 3
   },
   "file_extension": ".py",
   "mimetype": "text/x-python",
   "name": "python",
   "nbconvert_exporter": "python",
   "pygments_lexer": "ipython3",
   "version": "3.12.7"
  }
 },
 "nbformat": 4,
 "nbformat_minor": 5
}
